{
 "cells": [
  {
   "cell_type": "code",
   "execution_count": 2,
   "metadata": {},
   "outputs": [],
   "source": [
    "import pandas as pd"
   ]
  },
  {
   "cell_type": "code",
   "execution_count": 4,
   "metadata": {},
   "outputs": [
    {
     "data": {
      "text/html": [
       "<div>\n",
       "<style scoped>\n",
       "    .dataframe tbody tr th:only-of-type {\n",
       "        vertical-align: middle;\n",
       "    }\n",
       "\n",
       "    .dataframe tbody tr th {\n",
       "        vertical-align: top;\n",
       "    }\n",
       "\n",
       "    .dataframe thead th {\n",
       "        text-align: right;\n",
       "    }\n",
       "</style>\n",
       "<table border=\"1\" class=\"dataframe\">\n",
       "  <thead>\n",
       "    <tr style=\"text-align: right;\">\n",
       "      <th></th>\n",
       "      <th>LA code</th>\n",
       "      <th>Ofsted Avg</th>\n",
       "      <th>lonely_avg</th>\n",
       "      <th>KS2 metrics PCA</th>\n",
       "      <th>GDHI income index</th>\n",
       "      <th>LA name</th>\n",
       "      <th>LA flow rate</th>\n",
       "    </tr>\n",
       "  </thead>\n",
       "  <tbody>\n",
       "    <tr>\n",
       "      <th>0</th>\n",
       "      <td>E06000003</td>\n",
       "      <td>2.791667</td>\n",
       "      <td>0.649266</td>\n",
       "      <td>-18159.719122</td>\n",
       "      <td>76.2</td>\n",
       "      <td>Redcar and Cleveland</td>\n",
       "      <td>0.006576</td>\n",
       "    </tr>\n",
       "    <tr>\n",
       "      <th>1</th>\n",
       "      <td>E06000004</td>\n",
       "      <td>3.085714</td>\n",
       "      <td>0.635474</td>\n",
       "      <td>-11390.336475</td>\n",
       "      <td>79.3</td>\n",
       "      <td>Stockton-on-Tees</td>\n",
       "      <td>0.006511</td>\n",
       "    </tr>\n",
       "    <tr>\n",
       "      <th>2</th>\n",
       "      <td>E06000005</td>\n",
       "      <td>2.894737</td>\n",
       "      <td>0.967079</td>\n",
       "      <td>-22128.626436</td>\n",
       "      <td>82.8</td>\n",
       "      <td>Darlington</td>\n",
       "      <td>0.007179</td>\n",
       "    </tr>\n",
       "    <tr>\n",
       "      <th>3</th>\n",
       "      <td>E06000007</td>\n",
       "      <td>3.189873</td>\n",
       "      <td>0.119804</td>\n",
       "      <td>-12615.781889</td>\n",
       "      <td>98.5</td>\n",
       "      <td>Warrington</td>\n",
       "      <td>0.005035</td>\n",
       "    </tr>\n",
       "    <tr>\n",
       "      <th>4</th>\n",
       "      <td>E06000008</td>\n",
       "      <td>2.935065</td>\n",
       "      <td>-0.654742</td>\n",
       "      <td>-15969.891271</td>\n",
       "      <td>67.3</td>\n",
       "      <td>Blackburn with Darwen</td>\n",
       "      <td>0.007943</td>\n",
       "    </tr>\n",
       "  </tbody>\n",
       "</table>\n",
       "</div>"
      ],
      "text/plain": [
       "     LA code  Ofsted Avg  lonely_avg  KS2 metrics PCA  GDHI income index  \\\n",
       "0  E06000003    2.791667    0.649266    -18159.719122               76.2   \n",
       "1  E06000004    3.085714    0.635474    -11390.336475               79.3   \n",
       "2  E06000005    2.894737    0.967079    -22128.626436               82.8   \n",
       "3  E06000007    3.189873    0.119804    -12615.781889               98.5   \n",
       "4  E06000008    2.935065   -0.654742    -15969.891271               67.3   \n",
       "\n",
       "                 LA name  LA flow rate  \n",
       "0   Redcar and Cleveland      0.006576  \n",
       "1       Stockton-on-Tees      0.006511  \n",
       "2             Darlington      0.007179  \n",
       "3             Warrington      0.005035  \n",
       "4  Blackburn with Darwen      0.007943  "
      ]
     },
     "execution_count": 4,
     "metadata": {},
     "output_type": "execute_result"
    }
   ],
   "source": [
    "#Read in smaller dataframes\n",
    "\n",
    "schoolrankings = pd.read_csv('school ranking and income\\SchoolRankingIncome.csv')\n",
    "\n",
    "populationData =  pd.read_csv('ages\\populationData.csv')\n",
    "\n"
   ]
  }
 ],
 "metadata": {
  "interpreter": {
   "hash": "6787530bf9925b057af33f954282f7ad07558b12920f3eef54087b2f6236d6d8"
  },
  "kernelspec": {
   "display_name": "Python 3.8.12 ('base')",
   "language": "python",
   "name": "python3"
  },
  "language_info": {
   "codemirror_mode": {
    "name": "ipython",
    "version": 3
   },
   "file_extension": ".py",
   "mimetype": "text/x-python",
   "name": "python",
   "nbconvert_exporter": "python",
   "pygments_lexer": "ipython3",
   "version": "3.8.5"
  },
  "orig_nbformat": 4
 },
 "nbformat": 4,
 "nbformat_minor": 2
}
